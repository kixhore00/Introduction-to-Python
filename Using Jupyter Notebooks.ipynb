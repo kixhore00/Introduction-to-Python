{
  "nbformat": 4,
  "nbformat_minor": 0,
  "metadata": {
    "kernelspec": {
      "display_name": "Python 3",
      "language": "python",
      "name": "python3"
    },
    "language_info": {
      "codemirror_mode": {
        "name": "ipython",
        "version": 3
      },
      "file_extension": ".py",
      "mimetype": "text/x-python",
      "name": "python",
      "nbconvert_exporter": "python",
      "pygments_lexer": "ipython3",
      "version": "3.7.3"
    },
    "colab": {
      "name": "Using Jupyter Notebooks.ipynb",
      "provenance": []
    }
  },
  "cells": [
    {
      "cell_type": "markdown",
      "metadata": {
        "id": "g8b46SWUvuGx"
      },
      "source": [
        "# Using Jupyter Notebooks\n",
        "\n"
      ]
    },
    {
      "cell_type": "markdown",
      "metadata": {
        "id": "qZ3M5cCUN6i8"
      },
      "source": [
        "##Introduction\n",
        "Jupyter notebooks is an open-source web-based Python editor which runs in your browser. It allows a combination of text written in a html-like format known as \"markdown\", such as the block of text you're reading right now, and inline code, tools and outputs such as this one:"
      ]
    },
    {
      "cell_type": "code",
      "metadata": {
        "id": "MHI0ogXbvuGy"
      },
      "source": [
        "print(\"Hello World\")"
      ],
      "execution_count": null,
      "outputs": []
    },
    {
      "cell_type": "markdown",
      "metadata": {
        "id": "NvjJu5iNvuG1"
      },
      "source": [
        "This combination allows for the procution of beautiful documents containing software, documentation and discussion. For larger codes you may wish to use Python in a stand-alone environment such as a traditional IDE. But for demonstration purposes Jupyter is a very useful tool.\n",
        "\n",
        "Notebook files have the extension \".ipynb\" extension. A Jupyter notebook is one of many environments you may run Python code.  Colab and the Jupyter notebook editor in Anaconda are two of the many pieces of software you may use to write and run a Jupyter notebook. For this course we recommend using the online Google Colab tool, but you can use Anaconda to run the notebooks on your own machine within an internet connection. On college computers, Jupyter can be used by launchng Anaconda from the Software Hub Apps Anywhere interface.\n",
        "\n",
        "Note that exact interfaces will differ between different environments but the same functionality should be found in most environments. This course will be using the Colab environment."
      ]
    },
    {
      "cell_type": "markdown",
      "metadata": {
        "id": "br4ThcjVNBfb"
      },
      "source": [
        "## Cells and Executing Code\n",
        "\n",
        "A notebooks is made up of one or more \"cells\". Cells can contain the html-like text used to generate text or code to be run by the user. A cell containing a piece of code may be recognised by the the  ```[]```  to the left of it. Code in these blocks can be run in a nubmer of ways. The simplest is click on the ```[ ]``` . This will execute the code. Try this with the code snippet below:"
      ]
    },
    {
      "cell_type": "code",
      "metadata": {
        "id": "znQZKSLZvuG2"
      },
      "source": [
        "print(\"Yes, it worked!\")"
      ],
      "execution_count": null,
      "outputs": []
    },
    {
      "cell_type": "markdown",
      "metadata": {
        "id": "HX2A7djDvuG4"
      },
      "source": [
        "You should have seen the message \"Yes, it worked!\" appear immediately beneath the code. This is the output of the code, which has been printed to the screen. You may also have noticed a number appear between the square brackets to the left of the code snippet. This indicates the order in which the code snippet has been executed. Code cells may be executed in any order and variables will be saved between execution of code snippets. To try this, execute the three codes snippets below in the following order:\n",
        "- 1\n",
        "- 2\n",
        "- 3\n",
        "- 2"
      ]
    },
    {
      "cell_type": "code",
      "metadata": {
        "id": "eAE233GJvuG4"
      },
      "source": [
        "a=\"Message 1\""
      ],
      "execution_count": null,
      "outputs": []
    },
    {
      "cell_type": "code",
      "metadata": {
        "id": "dt9NlZYyvuG6"
      },
      "source": [
        "print(a)"
      ],
      "execution_count": null,
      "outputs": []
    },
    {
      "cell_type": "code",
      "metadata": {
        "id": "PZUIOI-ZvuG8"
      },
      "source": [
        "a=\"Message 2\""
      ],
      "execution_count": null,
      "outputs": []
    },
    {
      "cell_type": "markdown",
      "metadata": {
        "id": "eCXAZCPzNUWr"
      },
      "source": [
        "The first time you ran code snippet 1 you should have seen \"Message 1\" as the output and the second time the output should have been \"Message 2\". This is because the first time it was run, the value assigned to the variable named \"a\" was \"Message\" as set by the first code snippet and the second time it was \"Message 2\" as set by the third code snippet. Note also the current numbers contained within square brackets. These help you to kno which cells have been executed and in which order."
      ]
    },
    {
      "cell_type": "markdown",
      "metadata": {
        "id": "S8YYhdP7NbjD"
      },
      "source": [
        "##Sharing Jupyter Notebooks on Colab\n",
        "When a Jupyter Notebook is shared with you on Colab, you will often receive access to the notebook which will alow you to run code, but not edit it. This should be the case for the notebooks that form part of this course. In this case you can select \"Save a Copy in Drive\" from the \"File\" menu to create a new copy that is yours and yo can edit.\n",
        "\n",
        "For this course, it is reccommended that you create two copies. One of these should be the original copy without your edits, and another which you can edit to compelte exercises or expierment."
      ]
    },
    {
      "cell_type": "markdown",
      "metadata": {
        "id": "CSpv_w2nvuG-"
      },
      "source": [
        "## Basic Jupyter Commands\n",
        "\n",
        "Jupyter contains a number of useful tools for executing these cells. By using the \"Runtime\" menu, you can run multiple cells at a time using \"Run all\", \"Run before\", \"Run selected\" and \"Run after\".\n",
        "\n",
        "You can clear output (this is the term for what is written under a code cell when it's executed) by clicking on the symbol to the left of it. You can clear all outputs from the notebook using the \"Clear All Outputs\" command on the \"Edit\" menu. Clearing the output will not unset variables set by the code snippets run, only remove the output printed to the screen.\n",
        "\n",
        "To unset variables, use the \"Restart Runtime\" or \"Reset Runtime\" option in the Runtime menu. The \"Interrupt Execution\" command on the kernel menu will halt the procesing of code, which can be useful if you've accidentally written a piece of code that will never finish executing or if the code is taking too long to execute.\n",
        "\n",
        "The \"insert\" menu allows you to create new cells. The \"cell type\" option in the \"cell\" menu allows you toggle the current cell type between the different cell types available:\n",
        "- **Code**: Code snippets\n",
        "- **Text**: The html-like language used to generate text, tables, equations, etc.\n",
        "\n",
        "Alternatively, you can hover your mouse in the space after a cell and add a code or text cell there.\n",
        "\n",
        "###Exercise\n",
        "\n",
        "Try each of these commands from the different menus for yourself on this  notebook and ensure they behave as you would expect."
      ]
    },
    {
      "cell_type": "markdown",
      "metadata": {
        "id": "RY8lQr8RNgnL"
      },
      "source": [
        "## Text Cells in Jupyter\n",
        "You can include all sort so information in Jupyter text cells to obtain different effects. To see how each of the following examples is generated, double click on this cell. To return to the formatted text, run the cell.\n",
        "\n",
        "### Headings\n",
        "Headings can be generated using the hash symbol \"#\". The more of these there are, the smaller the heading. The sub-sub-heading above is an example.\n",
        "\n",
        "### Tables\n",
        "Tables can be created in a way similar to basic html, using the a comabination of the \"|\" and \"-\" symbols:\n",
        "\n",
        "| This | is    |\n",
        "|------|-------|\n",
        "|   a  |  table|\n",
        "| It's | fancy |\n",
        "\n",
        "### Equations\n",
        "Equations can be written in a way similar to LaTeX by surrouding the text with \"\\$\" symbols:\n",
        "\n",
        "$a=\\frac{\\int\\limits_{0}^{\\pi} \\sin{(bx)} \\textrm{d}x}{4}$\n",
        "\n",
        "Don't worry if you don't understand the exact syntax used to generate this example. In your example of it in your exercise, try writing something very simple instead. If it looks like a simple algebraic expression, it will probably render how you intend.\n",
        "\n",
        "### Code Snippets\n",
        "You can write snippets of code in a text cell and they will be highlighted as if they were code written in a code cell. This can be useful for demonstrating a code feature in a textual way. For example:\n",
        "\n",
        "```python\n",
        "print (\"Hello World\")\n",
        "```\n",
        "\n",
        "There is not a way to run this code, it is merely normal text highlighted to look like code. The \"python\" which precedes the code itself tells Jupyter which language you are writing the code snippet in so it can be highlighted accorindly.\n",
        "\n",
        "In some environments, text cells may also be referred to as \"markdown\" cells.\n",
        "\n",
        "###Exercise\n",
        "Try creating simple versions of each of the constructs above in a new text cell below this one."
      ]
    },
    {
      "cell_type": "code",
      "source": [
        "dt['Order ID'].duplicated().sum()"
      ],
      "metadata": {
        "colab": {
          "base_uri": "https://localhost:8080/"
        },
        "id": "7Aq5AmXuQ7uJ",
        "outputId": "d8946112-4819-4076-fe0b-0276fb0fb449"
      },
      "execution_count": 31,
      "outputs": [
        {
          "output_type": "execute_result",
          "data": {
            "text/plain": [
              "0"
            ]
          },
          "metadata": {},
          "execution_count": 31
        }
      ]
    },
    {
      "cell_type": "code",
      "source": [
        "dt[\"Gender\"].unique()\n"
      ],
      "metadata": {
        "id": "36VSQ7fjSj5p",
        "outputId": "2ea02310-c7fb-4d4a-b0e7-05e72f4da1f9",
        "colab": {
          "base_uri": "https://localhost:8080/"
        }
      },
      "execution_count": 32,
      "outputs": [
        {
          "output_type": "execute_result",
          "data": {
            "text/plain": [
              "array(['Women', 'Men', 'W', 'M'], dtype=object)"
            ]
          },
          "metadata": {},
          "execution_count": 32
        }
      ]
    },
    {
      "cell_type": "code",
      "source": [
        "dt[\"age_category\"] = dt[\"Age\"]"
      ],
      "metadata": {
        "id": "bPVAUQhkS5rR",
        "outputId": "aebf8737-e97e-4c9e-ad79-155a7fcf6b2f",
        "colab": {
          "base_uri": "https://localhost:8080/"
        }
      },
      "execution_count": 33,
      "outputs": [
        {
          "output_type": "stream",
          "name": "stderr",
          "text": [
            "<ipython-input-33-c95fda321395>:1: SettingWithCopyWarning: \n",
            "A value is trying to be set on a copy of a slice from a DataFrame.\n",
            "Try using .loc[row_indexer,col_indexer] = value instead\n",
            "\n",
            "See the caveats in the documentation: https://pandas.pydata.org/pandas-docs/stable/user_guide/indexing.html#returning-a-view-versus-a-copy\n",
            "  dt[\"age_category\"] = dt[\"Age\"]\n"
          ]
        }
      ]
    },
    {
      "cell_type": "code",
      "source": [
        "dt['age_category'] = dt['Age'].apply(lambda x: 'senior citizen' if x >= 60 else ('Adult' if x >= 25 else 'Teenager'))"
      ],
      "metadata": {
        "id": "TQRYxqhsXybX",
        "outputId": "1ec87e10-93ee-400e-a6e6-a09cda284061",
        "colab": {
          "base_uri": "https://localhost:8080/"
        }
      },
      "execution_count": 34,
      "outputs": [
        {
          "output_type": "stream",
          "name": "stderr",
          "text": [
            "<ipython-input-34-2a193db34cd4>:1: SettingWithCopyWarning: \n",
            "A value is trying to be set on a copy of a slice from a DataFrame.\n",
            "Try using .loc[row_indexer,col_indexer] = value instead\n",
            "\n",
            "See the caveats in the documentation: https://pandas.pydata.org/pandas-docs/stable/user_guide/indexing.html#returning-a-view-versus-a-copy\n",
            "  dt['age_category'] = dt['Age'].apply(lambda x: 'senior citizen' if x >= 60 else ('Adult' if x >= 25 else 'Teenager'))\n"
          ]
        }
      ]
    },
    {
      "cell_type": "code",
      "source": [
        "dt.head()"
      ],
      "metadata": {
        "id": "5db5rGc6X5XC",
        "outputId": "e2ebb1a1-8125-4f6a-c2ab-831257fd555d",
        "colab": {
          "base_uri": "https://localhost:8080/",
          "height": 451
        }
      },
      "execution_count": 35,
      "outputs": [
        {
          "output_type": "execute_result",
          "data": {
            "text/plain": [
              "   index             Order ID  Cust ID Gender  Age       Date     Status  \\\n",
              "0      1  171-1029312-3038738  1029312  Women   44 2022-12-04  Delivered   \n",
              "1      2  405-2183842-2225946  2183842  Women   29 2022-12-04  Delivered   \n",
              "2      3  171-1641533-8921966  1641533  Women   67 2022-12-04  Delivered   \n",
              "3      4  404-7490807-6300351  7490807  Women   20 2022-12-04  Delivered   \n",
              "4      5  403-9293516-4577154  9293516  Women   62 2022-12-04  Delivered   \n",
              "\n",
              "  Channel                       SKU Category Size Qty currency  Amount  \\\n",
              "0   Myntra  JNE1233-BLUE-KR-031-XXL    kurta  XXL   1      INR     376   \n",
              "1     Ajio           SET414-KR-NP-L      Set    L   1      INR    1449   \n",
              "2   Myntra           SET261-KR-PP-S      Set    S   1      INR     453   \n",
              "3   Amazon           SET110-KR-PP-M      Set    M   1      INR     729   \n",
              "4   Myntra         JNE2294-KR-A-XXL    kurta  XXL   1      INR     544   \n",
              "\n",
              "   ship-city   ship-state  ship-postal-code ship-country    B2B  \\\n",
              "0     MOHALI       PUNJAB            140301           IN  False   \n",
              "1   GURUGRAM      HARYANA            122002           IN  False   \n",
              "2    KOLKATA  WEST BENGAL            700029           IN  False   \n",
              "3  THANJAVUR   TAMIL NADU            613007           IN  False   \n",
              "4   GURUGRAM      HARYANA            122001           IN  False   \n",
              "\n",
              "     age_category  \n",
              "0           Adult  \n",
              "1           Adult  \n",
              "2  senior citizen  \n",
              "3        Teenager  \n",
              "4  senior citizen  "
            ],
            "text/html": [
              "\n",
              "  <div id=\"df-34fd3fb3-4ee0-4f53-b6f9-104b6075b6bb\" class=\"colab-df-container\">\n",
              "    <div>\n",
              "<style scoped>\n",
              "    .dataframe tbody tr th:only-of-type {\n",
              "        vertical-align: middle;\n",
              "    }\n",
              "\n",
              "    .dataframe tbody tr th {\n",
              "        vertical-align: top;\n",
              "    }\n",
              "\n",
              "    .dataframe thead th {\n",
              "        text-align: right;\n",
              "    }\n",
              "</style>\n",
              "<table border=\"1\" class=\"dataframe\">\n",
              "  <thead>\n",
              "    <tr style=\"text-align: right;\">\n",
              "      <th></th>\n",
              "      <th>index</th>\n",
              "      <th>Order ID</th>\n",
              "      <th>Cust ID</th>\n",
              "      <th>Gender</th>\n",
              "      <th>Age</th>\n",
              "      <th>Date</th>\n",
              "      <th>Status</th>\n",
              "      <th>Channel</th>\n",
              "      <th>SKU</th>\n",
              "      <th>Category</th>\n",
              "      <th>Size</th>\n",
              "      <th>Qty</th>\n",
              "      <th>currency</th>\n",
              "      <th>Amount</th>\n",
              "      <th>ship-city</th>\n",
              "      <th>ship-state</th>\n",
              "      <th>ship-postal-code</th>\n",
              "      <th>ship-country</th>\n",
              "      <th>B2B</th>\n",
              "      <th>age_category</th>\n",
              "    </tr>\n",
              "  </thead>\n",
              "  <tbody>\n",
              "    <tr>\n",
              "      <th>0</th>\n",
              "      <td>1</td>\n",
              "      <td>171-1029312-3038738</td>\n",
              "      <td>1029312</td>\n",
              "      <td>Women</td>\n",
              "      <td>44</td>\n",
              "      <td>2022-12-04</td>\n",
              "      <td>Delivered</td>\n",
              "      <td>Myntra</td>\n",
              "      <td>JNE1233-BLUE-KR-031-XXL</td>\n",
              "      <td>kurta</td>\n",
              "      <td>XXL</td>\n",
              "      <td>1</td>\n",
              "      <td>INR</td>\n",
              "      <td>376</td>\n",
              "      <td>MOHALI</td>\n",
              "      <td>PUNJAB</td>\n",
              "      <td>140301</td>\n",
              "      <td>IN</td>\n",
              "      <td>False</td>\n",
              "      <td>Adult</td>\n",
              "    </tr>\n",
              "    <tr>\n",
              "      <th>1</th>\n",
              "      <td>2</td>\n",
              "      <td>405-2183842-2225946</td>\n",
              "      <td>2183842</td>\n",
              "      <td>Women</td>\n",
              "      <td>29</td>\n",
              "      <td>2022-12-04</td>\n",
              "      <td>Delivered</td>\n",
              "      <td>Ajio</td>\n",
              "      <td>SET414-KR-NP-L</td>\n",
              "      <td>Set</td>\n",
              "      <td>L</td>\n",
              "      <td>1</td>\n",
              "      <td>INR</td>\n",
              "      <td>1449</td>\n",
              "      <td>GURUGRAM</td>\n",
              "      <td>HARYANA</td>\n",
              "      <td>122002</td>\n",
              "      <td>IN</td>\n",
              "      <td>False</td>\n",
              "      <td>Adult</td>\n",
              "    </tr>\n",
              "    <tr>\n",
              "      <th>2</th>\n",
              "      <td>3</td>\n",
              "      <td>171-1641533-8921966</td>\n",
              "      <td>1641533</td>\n",
              "      <td>Women</td>\n",
              "      <td>67</td>\n",
              "      <td>2022-12-04</td>\n",
              "      <td>Delivered</td>\n",
              "      <td>Myntra</td>\n",
              "      <td>SET261-KR-PP-S</td>\n",
              "      <td>Set</td>\n",
              "      <td>S</td>\n",
              "      <td>1</td>\n",
              "      <td>INR</td>\n",
              "      <td>453</td>\n",
              "      <td>KOLKATA</td>\n",
              "      <td>WEST BENGAL</td>\n",
              "      <td>700029</td>\n",
              "      <td>IN</td>\n",
              "      <td>False</td>\n",
              "      <td>senior citizen</td>\n",
              "    </tr>\n",
              "    <tr>\n",
              "      <th>3</th>\n",
              "      <td>4</td>\n",
              "      <td>404-7490807-6300351</td>\n",
              "      <td>7490807</td>\n",
              "      <td>Women</td>\n",
              "      <td>20</td>\n",
              "      <td>2022-12-04</td>\n",
              "      <td>Delivered</td>\n",
              "      <td>Amazon</td>\n",
              "      <td>SET110-KR-PP-M</td>\n",
              "      <td>Set</td>\n",
              "      <td>M</td>\n",
              "      <td>1</td>\n",
              "      <td>INR</td>\n",
              "      <td>729</td>\n",
              "      <td>THANJAVUR</td>\n",
              "      <td>TAMIL NADU</td>\n",
              "      <td>613007</td>\n",
              "      <td>IN</td>\n",
              "      <td>False</td>\n",
              "      <td>Teenager</td>\n",
              "    </tr>\n",
              "    <tr>\n",
              "      <th>4</th>\n",
              "      <td>5</td>\n",
              "      <td>403-9293516-4577154</td>\n",
              "      <td>9293516</td>\n",
              "      <td>Women</td>\n",
              "      <td>62</td>\n",
              "      <td>2022-12-04</td>\n",
              "      <td>Delivered</td>\n",
              "      <td>Myntra</td>\n",
              "      <td>JNE2294-KR-A-XXL</td>\n",
              "      <td>kurta</td>\n",
              "      <td>XXL</td>\n",
              "      <td>1</td>\n",
              "      <td>INR</td>\n",
              "      <td>544</td>\n",
              "      <td>GURUGRAM</td>\n",
              "      <td>HARYANA</td>\n",
              "      <td>122001</td>\n",
              "      <td>IN</td>\n",
              "      <td>False</td>\n",
              "      <td>senior citizen</td>\n",
              "    </tr>\n",
              "  </tbody>\n",
              "</table>\n",
              "</div>\n",
              "    <div class=\"colab-df-buttons\">\n",
              "\n",
              "  <div class=\"colab-df-container\">\n",
              "    <button class=\"colab-df-convert\" onclick=\"convertToInteractive('df-34fd3fb3-4ee0-4f53-b6f9-104b6075b6bb')\"\n",
              "            title=\"Convert this dataframe to an interactive table.\"\n",
              "            style=\"display:none;\">\n",
              "\n",
              "  <svg xmlns=\"http://www.w3.org/2000/svg\" height=\"24px\" viewBox=\"0 -960 960 960\">\n",
              "    <path d=\"M120-120v-720h720v720H120Zm60-500h600v-160H180v160Zm220 220h160v-160H400v160Zm0 220h160v-160H400v160ZM180-400h160v-160H180v160Zm440 0h160v-160H620v160ZM180-180h160v-160H180v160Zm440 0h160v-160H620v160Z\"/>\n",
              "  </svg>\n",
              "    </button>\n",
              "\n",
              "  <style>\n",
              "    .colab-df-container {\n",
              "      display:flex;\n",
              "      gap: 12px;\n",
              "    }\n",
              "\n",
              "    .colab-df-convert {\n",
              "      background-color: #E8F0FE;\n",
              "      border: none;\n",
              "      border-radius: 50%;\n",
              "      cursor: pointer;\n",
              "      display: none;\n",
              "      fill: #1967D2;\n",
              "      height: 32px;\n",
              "      padding: 0 0 0 0;\n",
              "      width: 32px;\n",
              "    }\n",
              "\n",
              "    .colab-df-convert:hover {\n",
              "      background-color: #E2EBFA;\n",
              "      box-shadow: 0px 1px 2px rgba(60, 64, 67, 0.3), 0px 1px 3px 1px rgba(60, 64, 67, 0.15);\n",
              "      fill: #174EA6;\n",
              "    }\n",
              "\n",
              "    .colab-df-buttons div {\n",
              "      margin-bottom: 4px;\n",
              "    }\n",
              "\n",
              "    [theme=dark] .colab-df-convert {\n",
              "      background-color: #3B4455;\n",
              "      fill: #D2E3FC;\n",
              "    }\n",
              "\n",
              "    [theme=dark] .colab-df-convert:hover {\n",
              "      background-color: #434B5C;\n",
              "      box-shadow: 0px 1px 3px 1px rgba(0, 0, 0, 0.15);\n",
              "      filter: drop-shadow(0px 1px 2px rgba(0, 0, 0, 0.3));\n",
              "      fill: #FFFFFF;\n",
              "    }\n",
              "  </style>\n",
              "\n",
              "    <script>\n",
              "      const buttonEl =\n",
              "        document.querySelector('#df-34fd3fb3-4ee0-4f53-b6f9-104b6075b6bb button.colab-df-convert');\n",
              "      buttonEl.style.display =\n",
              "        google.colab.kernel.accessAllowed ? 'block' : 'none';\n",
              "\n",
              "      async function convertToInteractive(key) {\n",
              "        const element = document.querySelector('#df-34fd3fb3-4ee0-4f53-b6f9-104b6075b6bb');\n",
              "        const dataTable =\n",
              "          await google.colab.kernel.invokeFunction('convertToInteractive',\n",
              "                                                    [key], {});\n",
              "        if (!dataTable) return;\n",
              "\n",
              "        const docLinkHtml = 'Like what you see? Visit the ' +\n",
              "          '<a target=\"_blank\" href=https://colab.research.google.com/notebooks/data_table.ipynb>data table notebook</a>'\n",
              "          + ' to learn more about interactive tables.';\n",
              "        element.innerHTML = '';\n",
              "        dataTable['output_type'] = 'display_data';\n",
              "        await google.colab.output.renderOutput(dataTable, element);\n",
              "        const docLink = document.createElement('div');\n",
              "        docLink.innerHTML = docLinkHtml;\n",
              "        element.appendChild(docLink);\n",
              "      }\n",
              "    </script>\n",
              "  </div>\n",
              "\n",
              "\n",
              "<div id=\"df-a5215600-4ff0-4ac8-9b87-32a9862d993e\">\n",
              "  <button class=\"colab-df-quickchart\" onclick=\"quickchart('df-a5215600-4ff0-4ac8-9b87-32a9862d993e')\"\n",
              "            title=\"Suggest charts\"\n",
              "            style=\"display:none;\">\n",
              "\n",
              "<svg xmlns=\"http://www.w3.org/2000/svg\" height=\"24px\"viewBox=\"0 0 24 24\"\n",
              "     width=\"24px\">\n",
              "    <g>\n",
              "        <path d=\"M19 3H5c-1.1 0-2 .9-2 2v14c0 1.1.9 2 2 2h14c1.1 0 2-.9 2-2V5c0-1.1-.9-2-2-2zM9 17H7v-7h2v7zm4 0h-2V7h2v10zm4 0h-2v-4h2v4z\"/>\n",
              "    </g>\n",
              "</svg>\n",
              "  </button>\n",
              "\n",
              "<style>\n",
              "  .colab-df-quickchart {\n",
              "      --bg-color: #E8F0FE;\n",
              "      --fill-color: #1967D2;\n",
              "      --hover-bg-color: #E2EBFA;\n",
              "      --hover-fill-color: #174EA6;\n",
              "      --disabled-fill-color: #AAA;\n",
              "      --disabled-bg-color: #DDD;\n",
              "  }\n",
              "\n",
              "  [theme=dark] .colab-df-quickchart {\n",
              "      --bg-color: #3B4455;\n",
              "      --fill-color: #D2E3FC;\n",
              "      --hover-bg-color: #434B5C;\n",
              "      --hover-fill-color: #FFFFFF;\n",
              "      --disabled-bg-color: #3B4455;\n",
              "      --disabled-fill-color: #666;\n",
              "  }\n",
              "\n",
              "  .colab-df-quickchart {\n",
              "    background-color: var(--bg-color);\n",
              "    border: none;\n",
              "    border-radius: 50%;\n",
              "    cursor: pointer;\n",
              "    display: none;\n",
              "    fill: var(--fill-color);\n",
              "    height: 32px;\n",
              "    padding: 0;\n",
              "    width: 32px;\n",
              "  }\n",
              "\n",
              "  .colab-df-quickchart:hover {\n",
              "    background-color: var(--hover-bg-color);\n",
              "    box-shadow: 0 1px 2px rgba(60, 64, 67, 0.3), 0 1px 3px 1px rgba(60, 64, 67, 0.15);\n",
              "    fill: var(--button-hover-fill-color);\n",
              "  }\n",
              "\n",
              "  .colab-df-quickchart-complete:disabled,\n",
              "  .colab-df-quickchart-complete:disabled:hover {\n",
              "    background-color: var(--disabled-bg-color);\n",
              "    fill: var(--disabled-fill-color);\n",
              "    box-shadow: none;\n",
              "  }\n",
              "\n",
              "  .colab-df-spinner {\n",
              "    border: 2px solid var(--fill-color);\n",
              "    border-color: transparent;\n",
              "    border-bottom-color: var(--fill-color);\n",
              "    animation:\n",
              "      spin 1s steps(1) infinite;\n",
              "  }\n",
              "\n",
              "  @keyframes spin {\n",
              "    0% {\n",
              "      border-color: transparent;\n",
              "      border-bottom-color: var(--fill-color);\n",
              "      border-left-color: var(--fill-color);\n",
              "    }\n",
              "    20% {\n",
              "      border-color: transparent;\n",
              "      border-left-color: var(--fill-color);\n",
              "      border-top-color: var(--fill-color);\n",
              "    }\n",
              "    30% {\n",
              "      border-color: transparent;\n",
              "      border-left-color: var(--fill-color);\n",
              "      border-top-color: var(--fill-color);\n",
              "      border-right-color: var(--fill-color);\n",
              "    }\n",
              "    40% {\n",
              "      border-color: transparent;\n",
              "      border-right-color: var(--fill-color);\n",
              "      border-top-color: var(--fill-color);\n",
              "    }\n",
              "    60% {\n",
              "      border-color: transparent;\n",
              "      border-right-color: var(--fill-color);\n",
              "    }\n",
              "    80% {\n",
              "      border-color: transparent;\n",
              "      border-right-color: var(--fill-color);\n",
              "      border-bottom-color: var(--fill-color);\n",
              "    }\n",
              "    90% {\n",
              "      border-color: transparent;\n",
              "      border-bottom-color: var(--fill-color);\n",
              "    }\n",
              "  }\n",
              "</style>\n",
              "\n",
              "  <script>\n",
              "    async function quickchart(key) {\n",
              "      const quickchartButtonEl =\n",
              "        document.querySelector('#' + key + ' button');\n",
              "      quickchartButtonEl.disabled = true;  // To prevent multiple clicks.\n",
              "      quickchartButtonEl.classList.add('colab-df-spinner');\n",
              "      try {\n",
              "        const charts = await google.colab.kernel.invokeFunction(\n",
              "            'suggestCharts', [key], {});\n",
              "      } catch (error) {\n",
              "        console.error('Error during call to suggestCharts:', error);\n",
              "      }\n",
              "      quickchartButtonEl.classList.remove('colab-df-spinner');\n",
              "      quickchartButtonEl.classList.add('colab-df-quickchart-complete');\n",
              "    }\n",
              "    (() => {\n",
              "      let quickchartButtonEl =\n",
              "        document.querySelector('#df-a5215600-4ff0-4ac8-9b87-32a9862d993e button');\n",
              "      quickchartButtonEl.style.display =\n",
              "        google.colab.kernel.accessAllowed ? 'block' : 'none';\n",
              "    })();\n",
              "  </script>\n",
              "</div>\n",
              "\n",
              "    </div>\n",
              "  </div>\n"
            ],
            "application/vnd.google.colaboratory.intrinsic+json": {
              "type": "dataframe",
              "variable_name": "dt",
              "summary": "{\n  \"name\": \"dt\",\n  \"rows\": 28471,\n  \"fields\": [\n    {\n      \"column\": \"index\",\n      \"properties\": {\n        \"dtype\": \"number\",\n        \"std\": 8974,\n        \"min\": 1,\n        \"max\": 31047,\n        \"num_unique_values\": 28471,\n        \"samples\": [\n          30621,\n          9491,\n          20715\n        ],\n        \"semantic_type\": \"\",\n        \"description\": \"\"\n      }\n    },\n    {\n      \"column\": \"Order ID\",\n      \"properties\": {\n        \"dtype\": \"string\",\n        \"num_unique_values\": 28471,\n        \"samples\": [\n          \"404-0573853-8514720\",\n          \"406-1745768-4689159\",\n          \"171-5044615-4804323\"\n        ],\n        \"semantic_type\": \"\",\n        \"description\": \"\"\n      }\n    },\n    {\n      \"column\": \"Cust ID\",\n      \"properties\": {\n        \"dtype\": \"number\",\n        \"std\": 2899062,\n        \"min\": 895,\n        \"max\": 9999233,\n        \"num_unique_values\": 28437,\n        \"samples\": [\n          9193457,\n          8826763,\n          5560284\n        ],\n        \"semantic_type\": \"\",\n        \"description\": \"\"\n      }\n    },\n    {\n      \"column\": \"Gender\",\n      \"properties\": {\n        \"dtype\": \"category\",\n        \"num_unique_values\": 4,\n        \"samples\": [\n          \"Men\",\n          \"M\",\n          \"Women\"\n        ],\n        \"semantic_type\": \"\",\n        \"description\": \"\"\n      }\n    },\n    {\n      \"column\": \"Age\",\n      \"properties\": {\n        \"dtype\": \"number\",\n        \"std\": 15,\n        \"min\": 18,\n        \"max\": 78,\n        \"num_unique_values\": 61,\n        \"samples\": [\n          44,\n          49,\n          71\n        ],\n        \"semantic_type\": \"\",\n        \"description\": \"\"\n      }\n    },\n    {\n      \"column\": \"Date\",\n      \"properties\": {\n        \"dtype\": \"date\",\n        \"min\": \"2022-01-04 00:00:00\",\n        \"max\": \"2022-12-06 00:00:00\",\n        \"num_unique_values\": 36,\n        \"samples\": [\n          \"2022-01-06 00:00:00\",\n          \"2022-11-05 00:00:00\",\n          \"2022-10-06 00:00:00\"\n        ],\n        \"semantic_type\": \"\",\n        \"description\": \"\"\n      }\n    },\n    {\n      \"column\": \"Status\",\n      \"properties\": {\n        \"dtype\": \"category\",\n        \"num_unique_values\": 4,\n        \"samples\": [\n          \"Refunded\",\n          \"Returned\",\n          \"Delivered\"\n        ],\n        \"semantic_type\": \"\",\n        \"description\": \"\"\n      }\n    },\n    {\n      \"column\": \"Channel \",\n      \"properties\": {\n        \"dtype\": \"category\",\n        \"num_unique_values\": 7,\n        \"samples\": [\n          \"Myntra\",\n          \"Ajio\",\n          \"Nalli\"\n        ],\n        \"semantic_type\": \"\",\n        \"description\": \"\"\n      }\n    },\n    {\n      \"column\": \"SKU\",\n      \"properties\": {\n        \"dtype\": \"category\",\n        \"num_unique_values\": 5135,\n        \"samples\": [\n          \"BL100-XL\",\n          \"JNE3798-KR-S\",\n          \"PSET268-KR-NP-6XL\"\n        ],\n        \"semantic_type\": \"\",\n        \"description\": \"\"\n      }\n    },\n    {\n      \"column\": \"Category\",\n      \"properties\": {\n        \"dtype\": \"category\",\n        \"num_unique_values\": 8,\n        \"samples\": [\n          \"Set\",\n          \"Blouse\",\n          \"kurta\"\n        ],\n        \"semantic_type\": \"\",\n        \"description\": \"\"\n      }\n    },\n    {\n      \"column\": \"Size\",\n      \"properties\": {\n        \"dtype\": \"category\",\n        \"num_unique_values\": 11,\n        \"samples\": [\n          \"XS\",\n          \"XXL\",\n          \"4XL\"\n        ],\n        \"semantic_type\": \"\",\n        \"description\": \"\"\n      }\n    },\n    {\n      \"column\": \"Qty\",\n      \"properties\": {\n        \"dtype\": \"category\",\n        \"num_unique_values\": 7,\n        \"samples\": [\n          1,\n          \"One\",\n          \"Two\"\n        ],\n        \"semantic_type\": \"\",\n        \"description\": \"\"\n      }\n    },\n    {\n      \"column\": \"currency\",\n      \"properties\": {\n        \"dtype\": \"category\",\n        \"num_unique_values\": 1,\n        \"samples\": [\n          \"INR\"\n        ],\n        \"semantic_type\": \"\",\n        \"description\": \"\"\n      }\n    },\n    {\n      \"column\": \"Amount\",\n      \"properties\": {\n        \"dtype\": \"number\",\n        \"std\": 269,\n        \"min\": 229,\n        \"max\": 3036,\n        \"num_unique_values\": 763,\n        \"samples\": [\n          895\n        ],\n        \"semantic_type\": \"\",\n        \"description\": \"\"\n      }\n    },\n    {\n      \"column\": \"ship-city\",\n      \"properties\": {\n        \"dtype\": \"category\",\n        \"num_unique_values\": 2530,\n        \"samples\": [\n          \"BAKHTIARPUR\"\n        ],\n        \"semantic_type\": \"\",\n        \"description\": \"\"\n      }\n    },\n    {\n      \"column\": \"ship-state\",\n      \"properties\": {\n        \"dtype\": \"category\",\n        \"num_unique_values\": 50,\n        \"samples\": [\n          \"MADHYA PRADESH\"\n        ],\n        \"semantic_type\": \"\",\n        \"description\": \"\"\n      }\n    },\n    {\n      \"column\": \"ship-postal-code\",\n      \"properties\": {\n        \"dtype\": \"number\",\n        \"std\": 198363,\n        \"min\": 110001,\n        \"max\": 855117,\n        \"num_unique_values\": 4825,\n        \"samples\": [\n          636302\n        ],\n        \"semantic_type\": \"\",\n        \"description\": \"\"\n      }\n    },\n    {\n      \"column\": \"ship-country\",\n      \"properties\": {\n        \"dtype\": \"category\",\n        \"num_unique_values\": 1,\n        \"samples\": [\n          \"IN\"\n        ],\n        \"semantic_type\": \"\",\n        \"description\": \"\"\n      }\n    },\n    {\n      \"column\": \"B2B\",\n      \"properties\": {\n        \"dtype\": \"boolean\",\n        \"num_unique_values\": 2,\n        \"samples\": [\n          true\n        ],\n        \"semantic_type\": \"\",\n        \"description\": \"\"\n      }\n    },\n    {\n      \"column\": \"age_category\",\n      \"properties\": {\n        \"dtype\": \"category\",\n        \"num_unique_values\": 3,\n        \"samples\": [\n          \"Adult\"\n        ],\n        \"semantic_type\": \"\",\n        \"description\": \"\"\n      }\n    }\n  ]\n}"
            }
          },
          "metadata": {},
          "execution_count": 35
        }
      ]
    }
  ]
}